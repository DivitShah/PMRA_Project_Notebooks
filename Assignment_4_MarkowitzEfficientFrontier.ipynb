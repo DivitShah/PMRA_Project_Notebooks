{
 "cells": [
  {
   "cell_type": "code",
   "execution_count": 1,
   "id": "51aaa1c9",
   "metadata": {},
   "outputs": [],
   "source": [
    "import numpy as np\n",
    "import pandas as pd\n",
    "import matplotlib.pyplot as plt\n",
    "import risk_kit_divit as rk"
   ]
  },
  {
   "cell_type": "code",
   "execution_count": 2,
   "id": "a08d3cfe",
   "metadata": {},
   "outputs": [
    {
     "data": {
      "text/html": [
       "<div>\n",
       "<style scoped>\n",
       "    .dataframe tbody tr th:only-of-type {\n",
       "        vertical-align: middle;\n",
       "    }\n",
       "\n",
       "    .dataframe tbody tr th {\n",
       "        vertical-align: top;\n",
       "    }\n",
       "\n",
       "    .dataframe thead th {\n",
       "        text-align: right;\n",
       "    }\n",
       "</style>\n",
       "<table border=\"1\" class=\"dataframe\">\n",
       "  <thead>\n",
       "    <tr style=\"text-align: right;\">\n",
       "      <th></th>\n",
       "      <th>TataMotors</th>\n",
       "      <th>BajajFinance</th>\n",
       "      <th>Dr.Reddy</th>\n",
       "      <th>TCS</th>\n",
       "      <th>TorrentPower</th>\n",
       "      <th>IndiaCements</th>\n",
       "      <th>ICICI</th>\n",
       "      <th>MRF</th>\n",
       "      <th>BhartiAirtel</th>\n",
       "      <th>GodrejIndustries</th>\n",
       "    </tr>\n",
       "    <tr>\n",
       "      <th>Date</th>\n",
       "      <th></th>\n",
       "      <th></th>\n",
       "      <th></th>\n",
       "      <th></th>\n",
       "      <th></th>\n",
       "      <th></th>\n",
       "      <th></th>\n",
       "      <th></th>\n",
       "      <th></th>\n",
       "      <th></th>\n",
       "    </tr>\n",
       "  </thead>\n",
       "  <tbody>\n",
       "    <tr>\n",
       "      <th>2014</th>\n",
       "      <td>0.175266</td>\n",
       "      <td>0.127258</td>\n",
       "      <td>0.049560</td>\n",
       "      <td>-0.022364</td>\n",
       "      <td>-0.042500</td>\n",
       "      <td>0.090953</td>\n",
       "      <td>0.058148</td>\n",
       "      <td>0.029727</td>\n",
       "      <td>-0.008313</td>\n",
       "      <td>-0.038450</td>\n",
       "    </tr>\n",
       "    <tr>\n",
       "      <th>2014</th>\n",
       "      <td>-0.043615</td>\n",
       "      <td>0.101117</td>\n",
       "      <td>0.095560</td>\n",
       "      <td>0.084941</td>\n",
       "      <td>0.015293</td>\n",
       "      <td>-0.001774</td>\n",
       "      <td>-0.079169</td>\n",
       "      <td>0.359994</td>\n",
       "      <td>0.095727</td>\n",
       "      <td>-0.046187</td>\n",
       "    </tr>\n",
       "    <tr>\n",
       "      <th>2014</th>\n",
       "      <td>0.067111</td>\n",
       "      <td>0.032044</td>\n",
       "      <td>-0.018981</td>\n",
       "      <td>-0.047047</td>\n",
       "      <td>0.209772</td>\n",
       "      <td>-0.008885</td>\n",
       "      <td>0.134701</td>\n",
       "      <td>-0.041806</td>\n",
       "      <td>-0.015548</td>\n",
       "      <td>-0.019662</td>\n",
       "    </tr>\n",
       "    <tr>\n",
       "      <th>2014</th>\n",
       "      <td>-0.004386</td>\n",
       "      <td>0.100890</td>\n",
       "      <td>0.138229</td>\n",
       "      <td>0.013478</td>\n",
       "      <td>-0.044640</td>\n",
       "      <td>-0.135365</td>\n",
       "      <td>0.078536</td>\n",
       "      <td>0.071148</td>\n",
       "      <td>-0.041614</td>\n",
       "      <td>-0.051218</td>\n",
       "    </tr>\n",
       "    <tr>\n",
       "      <th>2014</th>\n",
       "      <td>-0.071134</td>\n",
       "      <td>0.126817</td>\n",
       "      <td>-0.099841</td>\n",
       "      <td>-0.032066</td>\n",
       "      <td>0.008900</td>\n",
       "      <td>-0.114049</td>\n",
       "      <td>0.006327</td>\n",
       "      <td>0.130422</td>\n",
       "      <td>-0.077426</td>\n",
       "      <td>0.026904</td>\n",
       "    </tr>\n",
       "    <tr>\n",
       "      <th>...</th>\n",
       "      <td>...</td>\n",
       "      <td>...</td>\n",
       "      <td>...</td>\n",
       "      <td>...</td>\n",
       "      <td>...</td>\n",
       "      <td>...</td>\n",
       "      <td>...</td>\n",
       "      <td>...</td>\n",
       "      <td>...</td>\n",
       "      <td>...</td>\n",
       "    </tr>\n",
       "    <tr>\n",
       "      <th>2022</th>\n",
       "      <td>0.000238</td>\n",
       "      <td>-0.081044</td>\n",
       "      <td>0.070924</td>\n",
       "      <td>-0.032283</td>\n",
       "      <td>0.007998</td>\n",
       "      <td>-0.010957</td>\n",
       "      <td>0.026203</td>\n",
       "      <td>-0.014185</td>\n",
       "      <td>0.009094</td>\n",
       "      <td>-0.036732</td>\n",
       "    </tr>\n",
       "    <tr>\n",
       "      <th>2022</th>\n",
       "      <td>0.152448</td>\n",
       "      <td>0.118102</td>\n",
       "      <td>0.066432</td>\n",
       "      <td>0.004164</td>\n",
       "      <td>0.080329</td>\n",
       "      <td>0.002702</td>\n",
       "      <td>0.046053</td>\n",
       "      <td>0.059010</td>\n",
       "      <td>0.067156</td>\n",
       "      <td>0.114770</td>\n",
       "    </tr>\n",
       "    <tr>\n",
       "      <th>2022</th>\n",
       "      <td>0.085266</td>\n",
       "      <td>0.113016</td>\n",
       "      <td>-0.086980</td>\n",
       "      <td>0.021822</td>\n",
       "      <td>0.000000</td>\n",
       "      <td>0.090542</td>\n",
       "      <td>0.034327</td>\n",
       "      <td>0.092183</td>\n",
       "      <td>0.063305</td>\n",
       "      <td>0.065749</td>\n",
       "    </tr>\n",
       "    <tr>\n",
       "      <th>2022</th>\n",
       "      <td>0.018241</td>\n",
       "      <td>0.004871</td>\n",
       "      <td>0.024306</td>\n",
       "      <td>0.004894</td>\n",
       "      <td>0.022488</td>\n",
       "      <td>0.052384</td>\n",
       "      <td>-0.011589</td>\n",
       "      <td>-0.008674</td>\n",
       "      <td>-0.015767</td>\n",
       "      <td>0.003022</td>\n",
       "    </tr>\n",
       "    <tr>\n",
       "      <th>2022</th>\n",
       "      <td>0.000000</td>\n",
       "      <td>0.000000</td>\n",
       "      <td>0.000000</td>\n",
       "      <td>0.000000</td>\n",
       "      <td>0.000000</td>\n",
       "      <td>0.000000</td>\n",
       "      <td>0.000000</td>\n",
       "      <td>0.000000</td>\n",
       "      <td>0.000000</td>\n",
       "      <td>0.000000</td>\n",
       "    </tr>\n",
       "  </tbody>\n",
       "</table>\n",
       "<p>108 rows × 10 columns</p>\n",
       "</div>"
      ],
      "text/plain": [
       "      TataMotors  BajajFinance  Dr.Reddy       TCS  TorrentPower  \\\n",
       "Date                                                               \n",
       "2014    0.175266      0.127258  0.049560 -0.022364     -0.042500   \n",
       "2014   -0.043615      0.101117  0.095560  0.084941      0.015293   \n",
       "2014    0.067111      0.032044 -0.018981 -0.047047      0.209772   \n",
       "2014   -0.004386      0.100890  0.138229  0.013478     -0.044640   \n",
       "2014   -0.071134      0.126817 -0.099841 -0.032066      0.008900   \n",
       "...          ...           ...       ...       ...           ...   \n",
       "2022    0.000238     -0.081044  0.070924 -0.032283      0.007998   \n",
       "2022    0.152448      0.118102  0.066432  0.004164      0.080329   \n",
       "2022    0.085266      0.113016 -0.086980  0.021822      0.000000   \n",
       "2022    0.018241      0.004871  0.024306  0.004894      0.022488   \n",
       "2022    0.000000      0.000000  0.000000  0.000000      0.000000   \n",
       "\n",
       "      IndiaCements     ICICI       MRF  BhartiAirtel  GodrejIndustries  \n",
       "Date                                                                    \n",
       "2014      0.090953  0.058148  0.029727     -0.008313         -0.038450  \n",
       "2014     -0.001774 -0.079169  0.359994      0.095727         -0.046187  \n",
       "2014     -0.008885  0.134701 -0.041806     -0.015548         -0.019662  \n",
       "2014     -0.135365  0.078536  0.071148     -0.041614         -0.051218  \n",
       "2014     -0.114049  0.006327  0.130422     -0.077426          0.026904  \n",
       "...            ...       ...       ...           ...               ...  \n",
       "2022     -0.010957  0.026203 -0.014185      0.009094         -0.036732  \n",
       "2022      0.002702  0.046053  0.059010      0.067156          0.114770  \n",
       "2022      0.090542  0.034327  0.092183      0.063305          0.065749  \n",
       "2022      0.052384 -0.011589 -0.008674     -0.015767          0.003022  \n",
       "2022      0.000000  0.000000  0.000000      0.000000          0.000000  \n",
       "\n",
       "[108 rows x 10 columns]"
      ]
     },
     "execution_count": 2,
     "metadata": {},
     "output_type": "execute_result"
    }
   ],
   "source": [
    "%load_ext autoreload\n",
    "%autoreload \n",
    "%matplotlib inline\n",
    "\n",
    "ind=pd.read_csv('10stockportfolio.csv')\n",
    "ind.set_index('Date',inplace=True)\n",
    "er=rk.annualize_returns(ind,12)\n",
    "cov=ind.cov()\n",
    "ind"
   ]
  },
  {
   "cell_type": "code",
   "execution_count": 3,
   "id": "82f1469d",
   "metadata": {},
   "outputs": [
    {
     "data": {
      "text/plain": [
       "Index(['TataMotors', 'BajajFinance', 'Dr.Reddy', 'TCS', 'TorrentPower',\n",
       "       'IndiaCements', 'ICICI', 'MRF', 'BhartiAirtel', 'GodrejIndustries'],\n",
       "      dtype='object')"
      ]
     },
     "execution_count": 3,
     "metadata": {},
     "output_type": "execute_result"
    }
   ],
   "source": [
    "ind.columns.str.strip()"
   ]
  },
  {
   "cell_type": "code",
   "execution_count": 4,
   "id": "08291442",
   "metadata": {},
   "outputs": [
    {
     "data": {
      "text/plain": [
       "<Axes: >"
      ]
     },
     "execution_count": 4,
     "metadata": {},
     "output_type": "execute_result"
    },
    {
     "data": {
      "image/png": "[encoded data removed]",
      "text/plain": [
       "<Figure size 640x480 with 1 Axes>"
      ]
     },
     "metadata": {},
     "output_type": "display_data"
    }
   ],
   "source": [
    "er.sort_values().plot.bar()"
   ]
  },
  {
   "cell_type": "code",
   "execution_count": 5,
   "id": "5136e110",
   "metadata": {},
   "outputs": [
    {
     "name": "stderr",
     "output_type": "stream",
     "text": [
      "c:\\Users\\admin\\anaconda3\\lib\\site-packages\\numpy\\core\\fromnumeric.py:3430: FutureWarning: In a future version, DataFrame.mean(axis=None) will return a scalar mean over the entire DataFrame. To retain the old behavior, use 'frame.mean(axis=0)' or just 'frame.mean()'\n",
      "  return mean(axis=axis, dtype=dtype, out=out, **kwargs)\n"
     ]
    },
    {
     "data": {
      "text/plain": [
       "<Axes: >"
      ]
     },
     "execution_count": 5,
     "metadata": {},
     "output_type": "execute_result"
    },
    {
     "data": {
      "image/png": "[encoded data removed]",
      "text/plain": [
       "<Figure size 640x480 with 1 Axes>"
      ]
     },
     "metadata": {},
     "output_type": "display_data"
    }
   ],
   "source": [
    "rk.sharpe(ind,0.03,12).sort_values().plot.bar()"
   ]
  },
  {
   "cell_type": "code",
   "execution_count": 6,
   "id": "24be7592",
   "metadata": {},
   "outputs": [
    {
     "data": {
      "text/plain": [
       "TataMotors          0.021633\n",
       "BajajFinance        0.469926\n",
       "Dr.Reddy            0.056611\n",
       "TCS                 0.110212\n",
       "TorrentPower        0.167406\n",
       "IndiaCements        0.083641\n",
       "ICICI               0.149608\n",
       "MRF                 0.170663\n",
       "BhartiAirtel        0.104346\n",
       "GodrejIndustries    0.040992\n",
       "dtype: float64"
      ]
     },
     "execution_count": 6,
     "metadata": {},
     "output_type": "execute_result"
    }
   ],
   "source": [
    "er\n"
   ]
  },
  {
   "cell_type": "code",
   "execution_count": 7,
   "id": "1e3e666c",
   "metadata": {},
   "outputs": [
    {
     "data": {
      "text/html": [
       "<div>\n",
       "<style scoped>\n",
       "    .dataframe tbody tr th:only-of-type {\n",
       "        vertical-align: middle;\n",
       "    }\n",
       "\n",
       "    .dataframe tbody tr th {\n",
       "        vertical-align: top;\n",
       "    }\n",
       "\n",
       "    .dataframe thead th {\n",
       "        text-align: right;\n",
       "    }\n",
       "</style>\n",
       "<table border=\"1\" class=\"dataframe\">\n",
       "  <thead>\n",
       "    <tr style=\"text-align: right;\">\n",
       "      <th></th>\n",
       "      <th>TataMotors</th>\n",
       "      <th>BajajFinance</th>\n",
       "      <th>Dr.Reddy</th>\n",
       "      <th>TCS</th>\n",
       "      <th>TorrentPower</th>\n",
       "      <th>IndiaCements</th>\n",
       "      <th>ICICI</th>\n",
       "      <th>MRF</th>\n",
       "      <th>BhartiAirtel</th>\n",
       "      <th>GodrejIndustries</th>\n",
       "    </tr>\n",
       "  </thead>\n",
       "  <tbody>\n",
       "    <tr>\n",
       "      <th>TataMotors</th>\n",
       "      <td>0.021939</td>\n",
       "      <td>0.005734</td>\n",
       "      <td>0.000341</td>\n",
       "      <td>0.002234</td>\n",
       "      <td>0.001417</td>\n",
       "      <td>0.005129</td>\n",
       "      <td>0.006763</td>\n",
       "      <td>0.002798</td>\n",
       "      <td>0.002732</td>\n",
       "      <td>0.005525</td>\n",
       "    </tr>\n",
       "    <tr>\n",
       "      <th>BajajFinance</th>\n",
       "      <td>0.005734</td>\n",
       "      <td>0.014826</td>\n",
       "      <td>-0.001220</td>\n",
       "      <td>0.000930</td>\n",
       "      <td>0.001390</td>\n",
       "      <td>0.005288</td>\n",
       "      <td>0.005612</td>\n",
       "      <td>0.003598</td>\n",
       "      <td>0.002686</td>\n",
       "      <td>0.004316</td>\n",
       "    </tr>\n",
       "    <tr>\n",
       "      <th>Dr.Reddy</th>\n",
       "      <td>0.000341</td>\n",
       "      <td>-0.001220</td>\n",
       "      <td>0.006105</td>\n",
       "      <td>0.000804</td>\n",
       "      <td>-0.000110</td>\n",
       "      <td>-0.000353</td>\n",
       "      <td>-0.000504</td>\n",
       "      <td>0.000006</td>\n",
       "      <td>0.000385</td>\n",
       "      <td>-0.000418</td>\n",
       "    </tr>\n",
       "    <tr>\n",
       "      <th>TCS</th>\n",
       "      <td>0.002234</td>\n",
       "      <td>0.000930</td>\n",
       "      <td>0.000804</td>\n",
       "      <td>0.004063</td>\n",
       "      <td>0.000331</td>\n",
       "      <td>-0.000274</td>\n",
       "      <td>0.001135</td>\n",
       "      <td>0.000576</td>\n",
       "      <td>0.000714</td>\n",
       "      <td>0.001527</td>\n",
       "    </tr>\n",
       "    <tr>\n",
       "      <th>TorrentPower</th>\n",
       "      <td>0.001417</td>\n",
       "      <td>0.001390</td>\n",
       "      <td>-0.000110</td>\n",
       "      <td>0.000331</td>\n",
       "      <td>0.008623</td>\n",
       "      <td>0.001843</td>\n",
       "      <td>0.002080</td>\n",
       "      <td>0.000769</td>\n",
       "      <td>0.000720</td>\n",
       "      <td>0.001060</td>\n",
       "    </tr>\n",
       "    <tr>\n",
       "      <th>IndiaCements</th>\n",
       "      <td>0.005129</td>\n",
       "      <td>0.005288</td>\n",
       "      <td>-0.000353</td>\n",
       "      <td>-0.000274</td>\n",
       "      <td>0.001843</td>\n",
       "      <td>0.015617</td>\n",
       "      <td>0.003297</td>\n",
       "      <td>0.002291</td>\n",
       "      <td>0.002546</td>\n",
       "      <td>0.004479</td>\n",
       "    </tr>\n",
       "    <tr>\n",
       "      <th>ICICI</th>\n",
       "      <td>0.006763</td>\n",
       "      <td>0.005612</td>\n",
       "      <td>-0.000504</td>\n",
       "      <td>0.001135</td>\n",
       "      <td>0.002080</td>\n",
       "      <td>0.003297</td>\n",
       "      <td>0.007269</td>\n",
       "      <td>0.001710</td>\n",
       "      <td>0.001986</td>\n",
       "      <td>0.003105</td>\n",
       "    </tr>\n",
       "    <tr>\n",
       "      <th>MRF</th>\n",
       "      <td>0.002798</td>\n",
       "      <td>0.003598</td>\n",
       "      <td>0.000006</td>\n",
       "      <td>0.000576</td>\n",
       "      <td>0.000769</td>\n",
       "      <td>0.002291</td>\n",
       "      <td>0.001710</td>\n",
       "      <td>0.007242</td>\n",
       "      <td>0.001096</td>\n",
       "      <td>0.002144</td>\n",
       "    </tr>\n",
       "    <tr>\n",
       "      <th>BhartiAirtel</th>\n",
       "      <td>0.002732</td>\n",
       "      <td>0.002686</td>\n",
       "      <td>0.000385</td>\n",
       "      <td>0.000714</td>\n",
       "      <td>0.000720</td>\n",
       "      <td>0.002546</td>\n",
       "      <td>0.001986</td>\n",
       "      <td>0.001096</td>\n",
       "      <td>0.005841</td>\n",
       "      <td>0.001509</td>\n",
       "    </tr>\n",
       "    <tr>\n",
       "      <th>GodrejIndustries</th>\n",
       "      <td>0.005525</td>\n",
       "      <td>0.004316</td>\n",
       "      <td>-0.000418</td>\n",
       "      <td>0.001527</td>\n",
       "      <td>0.001060</td>\n",
       "      <td>0.004479</td>\n",
       "      <td>0.003105</td>\n",
       "      <td>0.002144</td>\n",
       "      <td>0.001509</td>\n",
       "      <td>0.008326</td>\n",
       "    </tr>\n",
       "  </tbody>\n",
       "</table>\n",
       "</div>"
      ],
      "text/plain": [
       "                  TataMotors  BajajFinance  Dr.Reddy       TCS  TorrentPower  \\\n",
       "TataMotors          0.021939      0.005734  0.000341  0.002234      0.001417   \n",
       "BajajFinance        0.005734      0.014826 -0.001220  0.000930      0.001390   \n",
       "Dr.Reddy            0.000341     -0.001220  0.006105  0.000804     -0.000110   \n",
       "TCS                 0.002234      0.000930  0.000804  0.004063      0.000331   \n",
       "TorrentPower        0.001417      0.001390 -0.000110  0.000331      0.008623   \n",
       "IndiaCements        0.005129      0.005288 -0.000353 -0.000274      0.001843   \n",
       "ICICI               0.006763      0.005612 -0.000504  0.001135      0.002080   \n",
       "MRF                 0.002798      0.003598  0.000006  0.000576      0.000769   \n",
       "BhartiAirtel        0.002732      0.002686  0.000385  0.000714      0.000720   \n",
       "GodrejIndustries    0.005525      0.004316 -0.000418  0.001527      0.001060   \n",
       "\n",
       "                  IndiaCements     ICICI       MRF  BhartiAirtel  \\\n",
       "TataMotors            0.005129  0.006763  0.002798      0.002732   \n",
       "BajajFinance          0.005288  0.005612  0.003598      0.002686   \n",
       "Dr.Reddy             -0.000353 -0.000504  0.000006      0.000385   \n",
       "TCS                  -0.000274  0.001135  0.000576      0.000714   \n",
       "TorrentPower          0.001843  0.002080  0.000769      0.000720   \n",
       "IndiaCements          0.015617  0.003297  0.002291      0.002546   \n",
       "ICICI                 0.003297  0.007269  0.001710      0.001986   \n",
       "MRF                   0.002291  0.001710  0.007242      0.001096   \n",
       "BhartiAirtel          0.002546  0.001986  0.001096      0.005841   \n",
       "GodrejIndustries      0.004479  0.003105  0.002144      0.001509   \n",
       "\n",
       "                  GodrejIndustries  \n",
       "TataMotors                0.005525  \n",
       "BajajFinance              0.004316  \n",
       "Dr.Reddy                 -0.000418  \n",
       "TCS                       0.001527  \n",
       "TorrentPower              0.001060  \n",
       "IndiaCements              0.004479  \n",
       "ICICI                     0.003105  \n",
       "MRF                       0.002144  \n",
       "BhartiAirtel              0.001509  \n",
       "GodrejIndustries          0.008326  "
      ]
     },
     "execution_count": 7,
     "metadata": {},
     "output_type": "execute_result"
    }
   ],
   "source": [
    "cov"
   ]
  },
  {
   "cell_type": "code",
   "execution_count": 8,
   "id": "fe7312fd",
   "metadata": {},
   "outputs": [
    {
     "data": {
      "text/plain": [
       "0.13750366612105103"
      ]
     },
     "execution_count": 8,
     "metadata": {},
     "output_type": "execute_result"
    }
   ],
   "source": [
    "ew = np.repeat(0.1, 10)\n",
    "a1=rk.portfolio_return(ew, er)\n",
    "a1"
   ]
  },
  {
   "cell_type": "code",
   "execution_count": 9,
   "id": "ed3848a9",
   "metadata": {
    "scrolled": true
   },
   "outputs": [
    {
     "data": {
      "text/plain": [
       "0.0027930327483431626"
      ]
     },
     "execution_count": 9,
     "metadata": {},
     "output_type": "execute_result"
    }
   ],
   "source": [
    "a2=rk.portfolio_vol(ew,cov)\n",
    "a2"
   ]
  },
  {
   "cell_type": "code",
   "execution_count": 10,
   "id": "8e5b1aa8",
   "metadata": {},
   "outputs": [
    {
     "data": {
      "text/plain": [
       "38.489941152613625"
      ]
     },
     "execution_count": 10,
     "metadata": {},
     "output_type": "execute_result"
    }
   ],
   "source": [
    "rk.portfolio_sharpe(a1,0.03,a2)"
   ]
  },
  {
   "cell_type": "code",
   "execution_count": 11,
   "id": "35c33e60",
   "metadata": {},
   "outputs": [
    {
     "data": {
      "text/plain": [
       "<Axes: xlabel='Volatility'>"
      ]
     },
     "execution_count": 11,
     "metadata": {},
     "output_type": "execute_result"
    },
    {
     "data": {
      "image/png": "[encoded data removed]",
      "text/plain": [
       "<Figure size 640x480 with 1 Axes>"
      ]
     },
     "metadata": {},
     "output_type": "display_data"
    }
   ],
   "source": [
    "rk.plot_ef(50, er, cov)\n",
    "## The function used for this is defined in risk_kit_divit.py"
   ]
  },
  {
   "cell_type": "markdown",
   "id": "0b84b4c9",
   "metadata": {},
   "source": [
    "# This is the Markowitz Efficient Frontier for a 10-stock portfolio.\n"
   ]
  },
  {
   "cell_type": "code",
   "execution_count": 12,
   "id": "aad06a25",
   "metadata": {},
   "outputs": [],
   "source": [
    "weights_msr = rk.msr(0.03,er,cov)\n",
    "r_msr = rk.portfolio_return(weights_msr , er)\n",
    "vol_msr = rk.portfolio_vol(weights_msr , cov)\n",
    "## Functions used above are not written here but are clearly defined in risk_kit_divit.py"
   ]
  },
  {
   "cell_type": "code",
   "execution_count": 13,
   "id": "e2b66f7a",
   "metadata": {},
   "outputs": [
    {
     "data": {
      "text/plain": [
       "0.18784256265532068"
      ]
     },
     "execution_count": 13,
     "metadata": {},
     "output_type": "execute_result"
    }
   ],
   "source": [
    "r_msr"
   ]
  },
  {
   "cell_type": "code",
   "execution_count": 14,
   "id": "3ad5d1e7",
   "metadata": {},
   "outputs": [
    {
     "data": {
      "text/plain": [
       "0.0020164300982205767"
      ]
     },
     "execution_count": 14,
     "metadata": {},
     "output_type": "execute_result"
    }
   ],
   "source": [
    "vol_msr"
   ]
  },
  {
   "cell_type": "code",
   "execution_count": 15,
   "id": "6dfbff63",
   "metadata": {},
   "outputs": [
    {
     "data": {
      "text/plain": [
       "78.27822189056332"
      ]
     },
     "execution_count": 15,
     "metadata": {},
     "output_type": "execute_result"
    }
   ],
   "source": [
    "sharpe_msr=rk.portfolio_sharpe(r_msr,0.03,vol_msr)\n",
    "sharpe_msr"
   ]
  },
  {
   "cell_type": "code",
   "execution_count": 16,
   "id": "5bd46073",
   "metadata": {},
   "outputs": [
    {
     "data": {
      "text/plain": [
       "[<matplotlib.lines.Line2D at 0x256d81ec3a0>]"
      ]
     },
     "execution_count": 16,
     "metadata": {},
     "output_type": "execute_result"
    },
    {
     "data": {
      "image/png": "[encoded data removed]",
      "text/plain": [
       "<Figure size 640x480 with 1 Axes>"
      ]
     },
     "metadata": {},
     "output_type": "display_data"
    }
   ],
   "source": [
    "rk.plot_ef(50, er, cov)\n",
    "point1=[0,0]\n",
    "point2=[vol_msr,r_msr]\n",
    "x_values = [point1[0], point2[0]]\n",
    "y_values = [point1[1], point2[1]]\n",
    "plt.xlabel('Risk')\n",
    "plt.ylabel('Returns')\n",
    "plt.plot(x_values, y_values, 'ro', linestyle=\"--\")"
   ]
  },
  {
   "cell_type": "markdown",
   "id": "132e8992",
   "metadata": {},
   "source": [
    "# This graph also shows the Capital Market Line (CML) for optimal sharpe ratio to maximise returns and minimize risk, along with the Markowitz Efficient Frontier.\n"
   ]
  },
  {
   "cell_type": "code",
   "execution_count": null,
   "id": "cfbc7157",
   "metadata": {},
   "outputs": [],
   "source": []
  }
 ],
 "metadata": {
  "kernelspec": {
   "display_name": "Python 3 (ipykernel)",
   "language": "python",
   "name": "python3"
  },
  "language_info": {
   "codemirror_mode": {
    "name": "ipython",
    "version": 3
   },
   "file_extension": ".py",
   "mimetype": "text/x-python",
   "name": "python",
   "nbconvert_exporter": "python",
   "pygments_lexer": "ipython3",
   "version": "3.10.9"
  }
 },
 "nbformat": 4,
 "nbformat_minor": 5
}
