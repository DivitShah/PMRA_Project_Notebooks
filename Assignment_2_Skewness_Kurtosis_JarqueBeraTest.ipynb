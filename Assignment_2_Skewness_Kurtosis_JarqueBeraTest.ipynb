{
 "cells": [
  {
   "cell_type": "code",
   "execution_count": 53,
   "id": "1335934e",
   "metadata": {
    "scrolled": true
   },
   "outputs": [
    {
     "name": "stdout",
     "output_type": "stream",
     "text": [
      "Please enter a list of space-separated values: 1 2 3 4 5 4 3 2 1\n",
      "2\n",
      "The value of moment of order 2 for the given list is:  1.73\n"
     ]
    }
   ],
   "source": [
    "\n",
    "## Question 1\n",
    "## For this, please enter a list of space separated values as your array on which you wish to apply the moment function,\n",
    "## followed by a single integer in the next line as your degree (order of moment).\n",
    "\n",
    "import numpy as np\n",
    "import pandas as pd\n",
    "import math\n",
    "arr=[]\n",
    "arr=[float(j) for j in input(\"Please enter a list of space-separated values: \").split()]\n",
    "def moment(x,y):\n",
    "    ans=0\n",
    "    for i in x:\n",
    "        ans+=((i-np.mean(x))**y)/len(x)\n",
    "    return ans\n",
    "degree=int(input())\n",
    "print('The value of moment of order',degree, 'for the given list is: ',math.ceil(moment(arr,degree)*100)/100)\n",
    "\n",
    "\n",
    "\n"
   ]
  },
  {
   "cell_type": "code",
   "execution_count": 50,
   "id": "6bd76955",
   "metadata": {},
   "outputs": [
    {
     "name": "stdout",
     "output_type": "stream",
     "text": [
      "The result for  Convertible Arbitrage is False because its test statistic is 4812.71\n",
      "The result for  CTA Global is False because its test statistic is 1.35\n",
      "The result for  Distressed Securities is False because its test statistic is 336.21\n",
      "The result for  Emerging Markets is False because its test statistic is 487.88\n",
      "The result for  Equity Market Neutral is False because its test statistic is 2413.25\n",
      "The result for  Event Driven is False because its test statistic is 364.94\n",
      "The result for  Fixed Income Arbitrage is False because its test statistic is 8576.09\n",
      "The result for  Global Macro is False because its test statistic is 124.73\n",
      "The result for  Long/Short Equity is False because its test statistic is 32.13\n",
      "The result for  Merger Arbitrage is False because its test statistic is 437.31\n",
      "The result for  Relative Value is False because its test statistic is 1056.17\n",
      "The result for  Short Selling is False because its test statistic is 132.38\n",
      "The result for  Funds Of Funds is False because its test statistic is 187.28\n"
     ]
    }
   ],
   "source": [
    "##Question 2 and 3\n",
    "##Simply press run to get the desired outputs for all stocks' returns.\n",
    "\n",
    "df=pd.read_csv('edhec-hedgefundindices.csv')\n",
    "\n",
    "def skewness(x):\n",
    "    return (moment(x,3)/(np.std(x)**3))\n",
    "def kurtosis(x):\n",
    "    return (moment(x,4)/(np.std(x)**4))\n",
    "def jb(x):\n",
    "    s=skewness(x)\n",
    "    k=kurtosis(x)\n",
    "    ans=(len(x)/6)*(s**2+((k-3)**2)/4)\n",
    "    return ans\n",
    "\n",
    "\n",
    "def jarque_bera_result(x):\n",
    "    if(jb(x)==0):\n",
    "        return(True) ## Since jb(x) is 0, S is 0 and K is 3, hence the distribution is normal.\n",
    "    else: \n",
    "        return(False)\n",
    "\n",
    "\n",
    "\n",
    "for i in df.columns[1:]:    ## As 1st column is for date, we start printing results from 2nd column onwards\n",
    "    print('The result for ',i,'is',jarque_bera_result(df[i]), 'because its test statistic is',math.ceil(jb(df[i])*100)/100)\n",
    "\n"
   ]
  },
  {
   "cell_type": "markdown",
   "id": "77db6acd",
   "metadata": {},
   "source": [
    "No, real life stock returns do NOT follow a normal distribution, as shown in the results given above, as no series of returns can be perfectly ideal.\n",
    "Thus the hypothesis is disproved."
   ]
  },
  {
   "cell_type": "code",
   "execution_count": 54,
   "id": "3db6e9fc",
   "metadata": {},
   "outputs": [
    {
     "name": "stdout",
     "output_type": "stream",
     "text": [
      "The skewness and kurtosis, upto 2 decimals, for  Convertible Arbitrage are  -2.63 and 23.29 respectively.\n",
      "The skewness and kurtosis, upto 2 decimals, for  CTA Global are  0.18 and 2.96 respectively.\n",
      "The skewness and kurtosis, upto 2 decimals, for  Distressed Securities are  -1.3 and 7.89 respectively.\n",
      "The skewness and kurtosis, upto 2 decimals, for  Emerging Markets are  -1.16 and 9.26 respectively.\n",
      "The skewness and kurtosis, upto 2 decimals, for  Equity Market Neutral are  -2.12 and 17.22 respectively.\n",
      "The skewness and kurtosis, upto 2 decimals, for  Event Driven are  -1.4 and 8.04 respectively.\n",
      "The skewness and kurtosis, upto 2 decimals, for  Fixed Income Arbitrage are  -3.94 and 29.85 respectively.\n",
      "The skewness and kurtosis, upto 2 decimals, for  Global Macro are  0.99 and 5.75 respectively.\n",
      "The skewness and kurtosis, upto 2 decimals, for  Long/Short Equity are  -0.39 and 4.53 respectively.\n",
      "The skewness and kurtosis, upto 2 decimals, for  Merger Arbitrage are  -1.32 and 8.74 respectively.\n",
      "The skewness and kurtosis, upto 2 decimals, for  Relative Value are  -1.81 and 12.13 respectively.\n",
      "The skewness and kurtosis, upto 2 decimals, for  Short Selling are  0.77 and 6.12 respectively.\n",
      "The skewness and kurtosis, upto 2 decimals, for  Funds Of Funds are  -0.36 and 7.08 respectively.\n"
     ]
    }
   ],
   "source": [
    "## Question 4\n",
    "## Press run to get the output for all stocks' returns.\n",
    "\n",
    "for i in df.columns[1:]:    ## As 1st column is for date, we start printing results from 2nd column onwards\n",
    "    print('The skewness and kurtosis, upto 2 decimals, for ',i,'are ',math.ceil(skewness(df[i])*100)/100, 'and',math.ceil(kurtosis(df[i])*100)/100,'respectively.')"
   ]
  },
  {
   "cell_type": "markdown",
   "id": "cd9eab34",
   "metadata": {},
   "source": [
    "Yes, a positive skewness is generally considered to be good and is more desired by investors since there is a probability of getting some high profits which might cover up for the frequent small losses in the investment."
   ]
  }
 ],
 "metadata": {
  "kernelspec": {
   "display_name": "Python 3 (ipykernel)",
   "language": "python",
   "name": "python3"
  },
  "language_info": {
   "codemirror_mode": {
    "name": "ipython",
    "version": 3
   },
   "file_extension": ".py",
   "mimetype": "text/x-python",
   "name": "python",
   "nbconvert_exporter": "python",
   "pygments_lexer": "ipython3",
   "version": "3.10.9"
  }
 },
 "nbformat": 4,
 "nbformat_minor": 5
}
