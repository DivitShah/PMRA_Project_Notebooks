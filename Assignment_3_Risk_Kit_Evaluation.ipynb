{
 "cells": [
  {
   "cell_type": "code",
   "execution_count": 1,
   "id": "e032d853",
   "metadata": {},
   "outputs": [],
   "source": [
    "%load_ext autoreload\n",
    "%autoreload"
   ]
  },
  {
   "cell_type": "code",
   "execution_count": 2,
   "id": "a8683324",
   "metadata": {},
   "outputs": [],
   "source": [
    "import risk_kit_divit as rk\n",
    "import numpy as np\n",
    "import pandas as pd\n",
    "import matplotlib_inline"
   ]
  },
  {
   "cell_type": "code",
   "execution_count": 3,
   "id": "271caac0",
   "metadata": {},
   "outputs": [],
   "source": [
    "df=pd.read_csv('edhec-hedgefundindices.csv')"
   ]
  },
  {
   "cell_type": "code",
   "execution_count": 4,
   "id": "45962b79",
   "metadata": {},
   "outputs": [
    {
     "data": {
      "text/plain": [
       "array([-5.68, -5.43, -5.32, -4.73, -4.45, -4.38, -3.76, -3.62, -3.54,\n",
       "       -3.54, -3.43, -3.39, -3.33, -3.17, -3.16, -3.14, -3.1 , -2.96,\n",
       "       -2.8 , -2.78, -2.73, -2.72, -2.61, -2.57, -2.53, -2.48, -2.41,\n",
       "       -2.39, -2.32, -2.25, -2.24, -2.22, -2.2 , -2.16, -2.08, -2.04,\n",
       "       -2.02, -2.01, -1.94, -1.92, -1.86, -1.84, -1.8 , -1.76, -1.75,\n",
       "       -1.71, -1.7 , -1.67, -1.64, -1.64, -1.57, -1.53, -1.5 , -1.47,\n",
       "       -1.47, -1.46, -1.44, -1.42, -1.41, -1.4 , -1.39, -1.38, -1.37,\n",
       "       -1.31, -1.24, -1.22, -1.19, -1.19, -1.18, -1.14, -1.04, -1.04,\n",
       "       -1.02, -0.99, -0.98, -0.92, -0.91, -0.89, -0.84, -0.82, -0.8 ,\n",
       "       -0.78, -0.77, -0.76, -0.74, -0.72, -0.66, -0.65, -0.65, -0.63,\n",
       "       -0.58, -0.57, -0.57, -0.56, -0.55, -0.54, -0.54, -0.53, -0.53,\n",
       "       -0.51, -0.51, -0.5 , -0.4 , -0.31, -0.29, -0.29, -0.27, -0.22,\n",
       "       -0.21, -0.19, -0.17, -0.16, -0.16, -0.16, -0.15, -0.13, -0.12,\n",
       "       -0.1 , -0.06, -0.04, -0.03,  0.  ,  0.04,  0.04,  0.05,  0.07,\n",
       "        0.08,  0.09,  0.1 ,  0.11,  0.11,  0.14,  0.18,  0.2 ,  0.23,\n",
       "        0.25,  0.34,  0.41,  0.46,  0.5 ,  0.51,  0.52,  0.54,  0.57,\n",
       "        0.58,  0.64,  0.65,  0.67,  0.75,  0.78,  0.79,  0.81,  0.85,\n",
       "        0.88,  0.89,  0.9 ,  0.91,  0.94,  0.97,  1.  ,  1.  ,  1.01,\n",
       "        1.02,  1.04,  1.04,  1.13,  1.14,  1.14,  1.15,  1.17,  1.22,\n",
       "        1.28,  1.33,  1.37,  1.4 ,  1.42,  1.45,  1.46,  1.46,  1.48,\n",
       "        1.49,  1.5 ,  1.51,  1.53,  1.6 ,  1.62,  1.66,  1.66,  1.74,\n",
       "        1.77,  1.79,  1.86,  1.89,  1.92,  1.93,  1.97,  1.98,  1.99,\n",
       "        2.09,  2.1 ,  2.13,  2.14,  2.19,  2.2 ,  2.2 ,  2.21,  2.26,\n",
       "        2.29,  2.29,  2.3 ,  2.32,  2.34,  2.36,  2.41,  2.46,  2.55,\n",
       "        2.58,  2.59,  2.6 ,  2.67,  2.7 ,  2.75,  2.8 ,  2.83,  2.84,\n",
       "        2.84,  2.86,  2.98,  3.1 ,  3.11,  3.12,  3.3 ,  3.32,  3.36,\n",
       "        3.45,  3.52,  3.57,  3.58,  3.67,  3.67,  3.79,  3.81,  3.87,\n",
       "        3.93,  3.99,  4.02,  4.13,  4.19,  4.25,  4.36,  4.38,  4.41,\n",
       "        4.54,  4.69,  4.75,  4.89,  4.9 ,  5.29,  5.91,  6.2 ,  6.55,\n",
       "        6.82,  6.91])"
      ]
     },
     "execution_count": 4,
     "metadata": {},
     "output_type": "execute_result"
    }
   ],
   "source": [
    "np.sort(df['CTA Global'])"
   ]
  },
  {
   "cell_type": "code",
   "execution_count": 34,
   "id": "794c1c39",
   "metadata": {},
   "outputs": [
    {
     "data": {
      "text/plain": [
       "0.17369864499039003"
      ]
     },
     "execution_count": 34,
     "metadata": {},
     "output_type": "execute_result"
    }
   ],
   "source": [
    "rk.skewness(df['CTA Global'])"
   ]
  },
  {
   "cell_type": "code",
   "execution_count": 35,
   "id": "df81916b",
   "metadata": {},
   "outputs": [
    {
     "data": {
      "text/plain": [
       "2.9529603687465182"
      ]
     },
     "execution_count": 35,
     "metadata": {},
     "output_type": "execute_result"
    }
   ],
   "source": [
    "rk.kurtosis(df['CTA Global'])"
   ]
  },
  {
   "cell_type": "code",
   "execution_count": 36,
   "id": "c6311473",
   "metadata": {},
   "outputs": [
    {
     "data": {
      "text/plain": [
       "1.6399999999999997"
      ]
     },
     "execution_count": 36,
     "metadata": {},
     "output_type": "execute_result"
    }
   ],
   "source": [
    "rk.kurtosis([1,2,3,4])"
   ]
  },
  {
   "cell_type": "code",
   "execution_count": 6,
   "id": "3c40f3e2",
   "metadata": {},
   "outputs": [
    {
     "data": {
      "text/plain": [
       "-4.199999999999999"
      ]
     },
     "execution_count": 6,
     "metadata": {},
     "output_type": "execute_result"
    }
   ],
   "source": [
    "rk.hist_cvar(df['CTA Global'])"
   ]
  },
  {
   "cell_type": "code",
   "execution_count": 18,
   "id": "a96039ec",
   "metadata": {},
   "outputs": [
    {
     "data": {
      "text/plain": [
       "3.577376425855513"
      ]
     },
     "execution_count": 18,
     "metadata": {},
     "output_type": "execute_result"
    }
   ],
   "source": [
    "rk.hist_var(df['CTA Global'])"
   ]
  },
  {
   "cell_type": "code",
   "execution_count": 8,
   "id": "42e26bb8",
   "metadata": {},
   "outputs": [
    {
     "data": {
      "text/plain": [
       "-4.238605470905553"
      ]
     },
     "execution_count": 8,
     "metadata": {},
     "output_type": "execute_result"
    }
   ],
   "source": [
    "rk.gaussian_var(df['CTA Global'])"
   ]
  },
  {
   "cell_type": "code",
   "execution_count": 9,
   "id": "ce9f1481",
   "metadata": {},
   "outputs": [
    {
     "data": {
      "text/plain": [
       "-4.998333333333333"
      ]
     },
     "execution_count": 9,
     "metadata": {},
     "output_type": "execute_result"
    }
   ],
   "source": [
    "rk.gaussian_cvar(df['CTA Global'])"
   ]
  },
  {
   "cell_type": "code",
   "execution_count": 5,
   "id": "3f6fd96c",
   "metadata": {},
   "outputs": [
    {
     "data": {
      "text/plain": [
       "0      0.000000\n",
       "1      0.000000\n",
       "2     -0.210000\n",
       "3     -1.553000\n",
       "4     -1.470050\n",
       "         ...   \n",
       "258   -0.897006\n",
       "259   -0.726037\n",
       "260   -0.873977\n",
       "261   -1.269689\n",
       "262   -1.126754\n",
       "Name: CTA Global, Length: 263, dtype: float64"
      ]
     },
     "execution_count": 5,
     "metadata": {},
     "output_type": "execute_result"
    }
   ],
   "source": [
    "rk.drawdown(df['CTA Global'])"
   ]
  },
  {
   "cell_type": "code",
   "execution_count": null,
   "id": "c23b18a9",
   "metadata": {},
   "outputs": [],
   "source": []
  }
 ],
 "metadata": {
  "kernelspec": {
   "display_name": "Python 3 (ipykernel)",
   "language": "python",
   "name": "python3"
  },
  "language_info": {
   "codemirror_mode": {
    "name": "ipython",
    "version": 3
   },
   "file_extension": ".py",
   "mimetype": "text/x-python",
   "name": "python",
   "nbconvert_exporter": "python",
   "pygments_lexer": "ipython3",
   "version": "3.10.9"
  }
 },
 "nbformat": 4,
 "nbformat_minor": 5
}
